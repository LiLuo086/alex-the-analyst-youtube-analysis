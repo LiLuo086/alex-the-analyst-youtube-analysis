{
 "cells": [
  {
   "cell_type": "code",
   "execution_count": null,
   "id": "5392ec98",
   "metadata": {},
   "outputs": [],
   "source": [
    "import psycopg2\n",
    "from sqlalchemy import create_engine,text"
   ]
  },
  {
   "cell_type": "code",
   "execution_count": null,
   "id": "9f0efe06",
   "metadata": {},
   "outputs": [],
   "source": [
    "# load database credentials from a credential file\n",
    "\n",
    "def load_db_credentials(filepath):\n",
    "    credentials = {}\n",
    "    with open(filepath,'r') as file:\n",
    "        lines = file.readlines()\n",
    "        for line in lines:\n",
    "            key, value = line.strip().split('=',1)\n",
    "            credentials[key.strip()] = value.strip()\n",
    "            \n",
    "    return credentials\n",
    "\n",
    "# Load database credentials\n",
    "creds = load_db_credentials('db_credentials.txt')    \n",
    "        \n",
    "\n",
    "# Build connection string using credentials\n",
    "conn_str = f\"postgresql://{creds['user']}:{creds['password']}@{creds['host']}:{creds['port']}/{creds['dbname']}\"\n",
    "\n",
    "# Create SQLAlchemy engine\n",
    "engine = create_engine(conn_str)\n",
    "\n",
    "try:\n",
    "    with engine.connect() as connection:\n",
    "        result = connection.execute(text(\"SELECT 1\"))\n",
    "        print(\"✅ Connection successful! Now loading data into PostgreSQL...\")\n",
    "        \n",
    "        # Load CSV to DataFrame\n",
    "        df = pd.read_csv(\"data/video.csv\")\n",
    "\n",
    "        # Write DataFrame to PostgreSQL\n",
    "        df.to_sql(\"videos\", engine, if_exists=\"append\", index=False)\n",
    "        print(\"✅ Data successfully loaded into 'videos' table.\")\n",
    "         \n",
    "except Exception as e:\n",
    "    print(\"❌ Connection or data load failed:\", e)     \n",
    "      "
   ]
  }
 ],
 "metadata": {
  "language_info": {
   "name": "python"
  }
 },
 "nbformat": 4,
 "nbformat_minor": 5
}

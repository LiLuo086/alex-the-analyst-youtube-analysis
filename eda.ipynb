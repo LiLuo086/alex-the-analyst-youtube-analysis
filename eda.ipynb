{
 "cells": [
  {
   "cell_type": "code",
   "execution_count": null,
   "id": "585ef301",
   "metadata": {},
   "outputs": [],
   "source": [
    "import pandas as pd\n",
    "import seaborn as sns\n",
    "import matplotlib.pyplot as plt"
   ]
  },
  {
   "cell_type": "markdown",
   "id": "df6c9060",
   "metadata": {},
   "source": [
    "### 📦Step 1: Load the Data"
   ]
  },
  {
   "cell_type": "code",
   "execution_count": null,
   "id": "f54acfab",
   "metadata": {},
   "outputs": [],
   "source": [
    "df = pd.read_csv('data/videos_featured.csv', sep=';')"
   ]
  },
  {
   "cell_type": "markdown",
   "id": "8d48796e",
   "metadata": {},
   "source": [
    "### 🔍 Step 2: Basic Checks"
   ]
  },
  {
   "cell_type": "code",
   "execution_count": 13,
   "id": "da1b24e6",
   "metadata": {},
   "outputs": [
    {
     "data": {
      "text/html": [
       "<div>\n",
       "<style scoped>\n",
       "    .dataframe tbody tr th:only-of-type {\n",
       "        vertical-align: middle;\n",
       "    }\n",
       "\n",
       "    .dataframe tbody tr th {\n",
       "        vertical-align: top;\n",
       "    }\n",
       "\n",
       "    .dataframe thead th {\n",
       "        text-align: right;\n",
       "    }\n",
       "</style>\n",
       "<table border=\"1\" class=\"dataframe\">\n",
       "  <thead>\n",
       "    <tr style=\"text-align: right;\">\n",
       "      <th></th>\n",
       "      <th>video_id</th>\n",
       "      <th>title</th>\n",
       "      <th>published_at</th>\n",
       "      <th>views</th>\n",
       "      <th>likes</th>\n",
       "      <th>comments</th>\n",
       "      <th>duration_seconds</th>\n",
       "      <th>tags_array</th>\n",
       "      <th>published_us_est</th>\n",
       "      <th>published_year</th>\n",
       "      <th>published_month</th>\n",
       "      <th>published_quarter</th>\n",
       "      <th>published_weekday</th>\n",
       "      <th>published_hour</th>\n",
       "      <th>like_ratio</th>\n",
       "      <th>comment_ratio</th>\n",
       "      <th>publish_time_of_day</th>\n",
       "    </tr>\n",
       "  </thead>\n",
       "  <tbody>\n",
       "    <tr>\n",
       "      <th>0</th>\n",
       "      <td>DlEkWd-8VXA</td>\n",
       "      <td>250k Subscriber Live Stream!!</td>\n",
       "      <td>2022-07-26 13:19:48</td>\n",
       "      <td>4168</td>\n",
       "      <td>156</td>\n",
       "      <td>11</td>\n",
       "      <td>4539</td>\n",
       "      <td>{\"Alex The Analyst\",\"Live Stream\",\"250k subscr...</td>\n",
       "      <td>2022-07-26 09:19:48</td>\n",
       "      <td>2022</td>\n",
       "      <td>7</td>\n",
       "      <td>Q3</td>\n",
       "      <td>Tuesday</td>\n",
       "      <td>9</td>\n",
       "      <td>0.0374</td>\n",
       "      <td>0.0026</td>\n",
       "      <td>Morning</td>\n",
       "    </tr>\n",
       "    <tr>\n",
       "      <th>1</th>\n",
       "      <td>xb5-UX-jYw0</td>\n",
       "      <td>How to Lie with Data | Averages</td>\n",
       "      <td>2025-04-08 12:01:32</td>\n",
       "      <td>4150</td>\n",
       "      <td>216</td>\n",
       "      <td>14</td>\n",
       "      <td>407</td>\n",
       "      <td>{\"Data Analyst\",\"Data Analyst job\",\"Data Analy...</td>\n",
       "      <td>2025-04-08 08:01:32</td>\n",
       "      <td>2025</td>\n",
       "      <td>4</td>\n",
       "      <td>Q2</td>\n",
       "      <td>Tuesday</td>\n",
       "      <td>8</td>\n",
       "      <td>0.0520</td>\n",
       "      <td>0.0034</td>\n",
       "      <td>Morning</td>\n",
       "    </tr>\n",
       "    <tr>\n",
       "      <th>2</th>\n",
       "      <td>V3ouFOBQP0k</td>\n",
       "      <td>How to Lie with Data | Percentages and Baselin...</td>\n",
       "      <td>2025-04-01 12:00:46</td>\n",
       "      <td>4361</td>\n",
       "      <td>216</td>\n",
       "      <td>9</td>\n",
       "      <td>318</td>\n",
       "      <td>{\"Data Analyst\",\"Data Analyst job\",\"Data Analy...</td>\n",
       "      <td>2025-04-01 08:00:46</td>\n",
       "      <td>2025</td>\n",
       "      <td>4</td>\n",
       "      <td>Q2</td>\n",
       "      <td>Tuesday</td>\n",
       "      <td>8</td>\n",
       "      <td>0.0495</td>\n",
       "      <td>0.0021</td>\n",
       "      <td>Morning</td>\n",
       "    </tr>\n",
       "    <tr>\n",
       "      <th>3</th>\n",
       "      <td>oi9W142ELN0</td>\n",
       "      <td>1 Million YouTube Play Button Unboxing!</td>\n",
       "      <td>2025-03-25 12:01:10</td>\n",
       "      <td>3073</td>\n",
       "      <td>236</td>\n",
       "      <td>79</td>\n",
       "      <td>460</td>\n",
       "      <td>{\"Data Analyst\",\"Data Analyst job\",\"Data Analy...</td>\n",
       "      <td>2025-03-25 08:01:10</td>\n",
       "      <td>2025</td>\n",
       "      <td>3</td>\n",
       "      <td>Q1</td>\n",
       "      <td>Tuesday</td>\n",
       "      <td>8</td>\n",
       "      <td>0.0768</td>\n",
       "      <td>0.0257</td>\n",
       "      <td>Morning</td>\n",
       "    </tr>\n",
       "    <tr>\n",
       "      <th>4</th>\n",
       "      <td>5n52mlp9Ym0</td>\n",
       "      <td>Maven Analytics + Analyst Builder Lifetime Acc...</td>\n",
       "      <td>2025-03-24 12:00:07</td>\n",
       "      <td>8613</td>\n",
       "      <td>254</td>\n",
       "      <td>41</td>\n",
       "      <td>315</td>\n",
       "      <td>{\"Data Analyst\",\"Data Analyst job\",\"Data Analy...</td>\n",
       "      <td>2025-03-24 08:00:07</td>\n",
       "      <td>2025</td>\n",
       "      <td>3</td>\n",
       "      <td>Q1</td>\n",
       "      <td>Monday</td>\n",
       "      <td>8</td>\n",
       "      <td>0.0295</td>\n",
       "      <td>0.0048</td>\n",
       "      <td>Morning</td>\n",
       "    </tr>\n",
       "  </tbody>\n",
       "</table>\n",
       "</div>"
      ],
      "text/plain": [
       "      video_id                                              title  \\\n",
       "0  DlEkWd-8VXA                      250k Subscriber Live Stream!!   \n",
       "1  xb5-UX-jYw0                    How to Lie with Data | Averages   \n",
       "2  V3ouFOBQP0k  How to Lie with Data | Percentages and Baselin...   \n",
       "3  oi9W142ELN0            1 Million YouTube Play Button Unboxing!   \n",
       "4  5n52mlp9Ym0  Maven Analytics + Analyst Builder Lifetime Acc...   \n",
       "\n",
       "          published_at  views  likes  comments  duration_seconds  \\\n",
       "0  2022-07-26 13:19:48   4168    156        11              4539   \n",
       "1  2025-04-08 12:01:32   4150    216        14               407   \n",
       "2  2025-04-01 12:00:46   4361    216         9               318   \n",
       "3  2025-03-25 12:01:10   3073    236        79               460   \n",
       "4  2025-03-24 12:00:07   8613    254        41               315   \n",
       "\n",
       "                                          tags_array     published_us_est  \\\n",
       "0  {\"Alex The Analyst\",\"Live Stream\",\"250k subscr...  2022-07-26 09:19:48   \n",
       "1  {\"Data Analyst\",\"Data Analyst job\",\"Data Analy...  2025-04-08 08:01:32   \n",
       "2  {\"Data Analyst\",\"Data Analyst job\",\"Data Analy...  2025-04-01 08:00:46   \n",
       "3  {\"Data Analyst\",\"Data Analyst job\",\"Data Analy...  2025-03-25 08:01:10   \n",
       "4  {\"Data Analyst\",\"Data Analyst job\",\"Data Analy...  2025-03-24 08:00:07   \n",
       "\n",
       "   published_year  published_month published_quarter published_weekday  \\\n",
       "0            2022                7                Q3           Tuesday   \n",
       "1            2025                4                Q2           Tuesday   \n",
       "2            2025                4                Q2           Tuesday   \n",
       "3            2025                3                Q1           Tuesday   \n",
       "4            2025                3                Q1            Monday   \n",
       "\n",
       "   published_hour  like_ratio  comment_ratio publish_time_of_day  \n",
       "0               9      0.0374         0.0026             Morning  \n",
       "1               8      0.0520         0.0034             Morning  \n",
       "2               8      0.0495         0.0021             Morning  \n",
       "3               8      0.0768         0.0257             Morning  \n",
       "4               8      0.0295         0.0048             Morning  "
      ]
     },
     "execution_count": 13,
     "metadata": {},
     "output_type": "execute_result"
    }
   ],
   "source": [
    "df.head() # View top rows"
   ]
  },
  {
   "cell_type": "code",
   "execution_count": 14,
   "id": "a276401a",
   "metadata": {},
   "outputs": [
    {
     "data": {
      "text/plain": [
       "(366, 17)"
      ]
     },
     "execution_count": 14,
     "metadata": {},
     "output_type": "execute_result"
    }
   ],
   "source": [
    "df.shape # Check the number of rows and columns"
   ]
  },
  {
   "cell_type": "code",
   "execution_count": 16,
   "id": "320afb3d",
   "metadata": {},
   "outputs": [
    {
     "data": {
      "text/plain": [
       "Index(['video_id', 'title', 'published_at', 'views', 'likes', 'comments',\n",
       "       'duration_seconds', 'tags_array', 'published_us_est', 'published_year',\n",
       "       'published_month', 'published_quarter', 'published_weekday',\n",
       "       'published_hour', 'like_ratio', 'comment_ratio', 'publish_time_of_day'],\n",
       "      dtype='object')"
      ]
     },
     "execution_count": 16,
     "metadata": {},
     "output_type": "execute_result"
    }
   ],
   "source": [
    "df.columns # Column names"
   ]
  },
  {
   "cell_type": "code",
   "execution_count": 15,
   "id": "012275d9",
   "metadata": {},
   "outputs": [
    {
     "data": {
      "text/plain": [
       "video_id                object\n",
       "title                   object\n",
       "published_at            object\n",
       "views                    int64\n",
       "likes                    int64\n",
       "comments                 int64\n",
       "duration_seconds         int64\n",
       "tags_array              object\n",
       "published_us_est        object\n",
       "published_year           int64\n",
       "published_month          int64\n",
       "published_quarter       object\n",
       "published_weekday       object\n",
       "published_hour           int64\n",
       "like_ratio             float64\n",
       "comment_ratio          float64\n",
       "publish_time_of_day     object\n",
       "dtype: object"
      ]
     },
     "execution_count": 15,
     "metadata": {},
     "output_type": "execute_result"
    }
   ],
   "source": [
    "df.dtypes # Check data type of each column"
   ]
  },
  {
   "cell_type": "code",
   "execution_count": null,
   "id": "a89c59d9",
   "metadata": {},
   "outputs": [
    {
     "name": "stdout",
     "output_type": "stream",
     "text": [
      "<class 'pandas.core.frame.DataFrame'>\n",
      "RangeIndex: 366 entries, 0 to 365\n",
      "Data columns (total 17 columns):\n",
      " #   Column               Non-Null Count  Dtype  \n",
      "---  ------               --------------  -----  \n",
      " 0   video_id             366 non-null    object \n",
      " 1   title                366 non-null    object \n",
      " 2   published_at         366 non-null    object \n",
      " 3   views                366 non-null    int64  \n",
      " 4   likes                366 non-null    int64  \n",
      " 5   comments             366 non-null    int64  \n",
      " 6   duration_seconds     366 non-null    int64  \n",
      " 7   tags_array           366 non-null    object \n",
      " 8   published_us_est     366 non-null    object \n",
      " 9   published_year       366 non-null    int64  \n",
      " 10  published_month      366 non-null    int64  \n",
      " 11  published_quarter    366 non-null    object \n",
      " 12  published_weekday    366 non-null    object \n",
      " 13  published_hour       366 non-null    int64  \n",
      " 14  like_ratio           366 non-null    float64\n",
      " 15  comment_ratio        366 non-null    float64\n",
      " 16  publish_time_of_day  366 non-null    object \n",
      "dtypes: float64(2), int64(7), object(8)\n",
      "memory usage: 48.7+ KB\n"
     ]
    }
   ],
   "source": [
    "df.info() # Check nulls + types"
   ]
  },
  {
   "cell_type": "markdown",
   "id": "5240c595",
   "metadata": {},
   "source": [
    "### 📊 Step 3: Descriptive Statistics"
   ]
  },
  {
   "cell_type": "code",
   "execution_count": null,
   "id": "049e61ff",
   "metadata": {},
   "outputs": [
    {
     "data": {
      "text/html": [
       "<div>\n",
       "<style scoped>\n",
       "    .dataframe tbody tr th:only-of-type {\n",
       "        vertical-align: middle;\n",
       "    }\n",
       "\n",
       "    .dataframe tbody tr th {\n",
       "        vertical-align: top;\n",
       "    }\n",
       "\n",
       "    .dataframe thead th {\n",
       "        text-align: right;\n",
       "    }\n",
       "</style>\n",
       "<table border=\"1\" class=\"dataframe\">\n",
       "  <thead>\n",
       "    <tr style=\"text-align: right;\">\n",
       "      <th></th>\n",
       "      <th>views</th>\n",
       "      <th>likes</th>\n",
       "      <th>comments</th>\n",
       "      <th>duration_seconds</th>\n",
       "      <th>published_year</th>\n",
       "      <th>published_month</th>\n",
       "      <th>published_hour</th>\n",
       "      <th>like_ratio</th>\n",
       "      <th>comment_ratio</th>\n",
       "    </tr>\n",
       "  </thead>\n",
       "  <tbody>\n",
       "    <tr>\n",
       "      <th>count</th>\n",
       "      <td>3.660000e+02</td>\n",
       "      <td>366.000000</td>\n",
       "      <td>366.000000</td>\n",
       "      <td>366.000000</td>\n",
       "      <td>366.000000</td>\n",
       "      <td>366.000000</td>\n",
       "      <td>366.000000</td>\n",
       "      <td>366.000000</td>\n",
       "      <td>366.000000</td>\n",
       "    </tr>\n",
       "    <tr>\n",
       "      <th>mean</th>\n",
       "      <td>1.390425e+05</td>\n",
       "      <td>3328.486339</td>\n",
       "      <td>180.199454</td>\n",
       "      <td>1700.691257</td>\n",
       "      <td>2022.297814</td>\n",
       "      <td>6.327869</td>\n",
       "      <td>8.341530</td>\n",
       "      <td>0.033302</td>\n",
       "      <td>0.003144</td>\n",
       "    </tr>\n",
       "    <tr>\n",
       "      <th>std</th>\n",
       "      <td>2.597877e+05</td>\n",
       "      <td>5760.090393</td>\n",
       "      <td>385.038146</td>\n",
       "      <td>4786.842221</td>\n",
       "      <td>1.570741</td>\n",
       "      <td>3.537144</td>\n",
       "      <td>2.555847</td>\n",
       "      <td>0.016346</td>\n",
       "      <td>0.005271</td>\n",
       "    </tr>\n",
       "    <tr>\n",
       "      <th>min</th>\n",
       "      <td>2.590000e+02</td>\n",
       "      <td>34.000000</td>\n",
       "      <td>3.000000</td>\n",
       "      <td>9.000000</td>\n",
       "      <td>2020.000000</td>\n",
       "      <td>1.000000</td>\n",
       "      <td>0.000000</td>\n",
       "      <td>0.012000</td>\n",
       "      <td>0.000200</td>\n",
       "    </tr>\n",
       "    <tr>\n",
       "      <th>25%</th>\n",
       "      <td>1.292150e+04</td>\n",
       "      <td>435.000000</td>\n",
       "      <td>30.000000</td>\n",
       "      <td>386.250000</td>\n",
       "      <td>2021.000000</td>\n",
       "      <td>3.000000</td>\n",
       "      <td>7.000000</td>\n",
       "      <td>0.021825</td>\n",
       "      <td>0.000800</td>\n",
       "    </tr>\n",
       "    <tr>\n",
       "      <th>50%</th>\n",
       "      <td>3.568100e+04</td>\n",
       "      <td>1332.500000</td>\n",
       "      <td>77.000000</td>\n",
       "      <td>721.000000</td>\n",
       "      <td>2022.000000</td>\n",
       "      <td>6.000000</td>\n",
       "      <td>8.000000</td>\n",
       "      <td>0.029550</td>\n",
       "      <td>0.001600</td>\n",
       "    </tr>\n",
       "    <tr>\n",
       "      <th>75%</th>\n",
       "      <td>1.397555e+05</td>\n",
       "      <td>3597.750000</td>\n",
       "      <td>161.750000</td>\n",
       "      <td>1581.500000</td>\n",
       "      <td>2024.000000</td>\n",
       "      <td>9.750000</td>\n",
       "      <td>9.000000</td>\n",
       "      <td>0.039300</td>\n",
       "      <td>0.003175</td>\n",
       "    </tr>\n",
       "    <tr>\n",
       "      <th>max</th>\n",
       "      <td>2.174630e+06</td>\n",
       "      <td>48329.000000</td>\n",
       "      <td>4370.000000</td>\n",
       "      <td>84768.000000</td>\n",
       "      <td>2025.000000</td>\n",
       "      <td>12.000000</td>\n",
       "      <td>23.000000</td>\n",
       "      <td>0.131300</td>\n",
       "      <td>0.063800</td>\n",
       "    </tr>\n",
       "  </tbody>\n",
       "</table>\n",
       "</div>"
      ],
      "text/plain": [
       "              views         likes     comments  duration_seconds  \\\n",
       "count  3.660000e+02    366.000000   366.000000        366.000000   \n",
       "mean   1.390425e+05   3328.486339   180.199454       1700.691257   \n",
       "std    2.597877e+05   5760.090393   385.038146       4786.842221   \n",
       "min    2.590000e+02     34.000000     3.000000          9.000000   \n",
       "25%    1.292150e+04    435.000000    30.000000        386.250000   \n",
       "50%    3.568100e+04   1332.500000    77.000000        721.000000   \n",
       "75%    1.397555e+05   3597.750000   161.750000       1581.500000   \n",
       "max    2.174630e+06  48329.000000  4370.000000      84768.000000   \n",
       "\n",
       "       published_year  published_month  published_hour  like_ratio  \\\n",
       "count      366.000000       366.000000      366.000000  366.000000   \n",
       "mean      2022.297814         6.327869        8.341530    0.033302   \n",
       "std          1.570741         3.537144        2.555847    0.016346   \n",
       "min       2020.000000         1.000000        0.000000    0.012000   \n",
       "25%       2021.000000         3.000000        7.000000    0.021825   \n",
       "50%       2022.000000         6.000000        8.000000    0.029550   \n",
       "75%       2024.000000         9.750000        9.000000    0.039300   \n",
       "max       2025.000000        12.000000       23.000000    0.131300   \n",
       "\n",
       "       comment_ratio  \n",
       "count     366.000000  \n",
       "mean        0.003144  \n",
       "std         0.005271  \n",
       "min         0.000200  \n",
       "25%         0.000800  \n",
       "50%         0.001600  \n",
       "75%         0.003175  \n",
       "max         0.063800  "
      ]
     },
     "execution_count": 17,
     "metadata": {},
     "output_type": "execute_result"
    }
   ],
   "source": [
    "df.describe() # Summary for numeric columns"
   ]
  },
  {
   "cell_type": "code",
   "execution_count": null,
   "id": "c994e50b",
   "metadata": {},
   "outputs": [
    {
     "data": {
      "text/plain": [
       "published_weekday\n",
       "Tuesday      238\n",
       "Thursday      55\n",
       "Wednesday     28\n",
       "Monday        19\n",
       "Friday        17\n",
       "Saturday       6\n",
       "Sunday         3\n",
       "Name: count, dtype: int64"
      ]
     },
     "execution_count": 18,
     "metadata": {},
     "output_type": "execute_result"
    }
   ],
   "source": [
    "df['published_weekday'].value_counts() # Published video counts of each weekday"
   ]
  },
  {
   "cell_type": "code",
   "execution_count": null,
   "id": "e237ac19",
   "metadata": {},
   "outputs": [
    {
     "data": {
      "text/plain": [
       "published_hour\n",
       "8     128\n",
       "7      88\n",
       "6      50\n",
       "10     24\n",
       "9      23\n",
       "11     19\n",
       "12     19\n",
       "13      4\n",
       "21      3\n",
       "0       2\n",
       "14      2\n",
       "22      2\n",
       "23      1\n",
       "19      1\n",
       "Name: count, dtype: int64"
      ]
     },
     "execution_count": 20,
     "metadata": {},
     "output_type": "execute_result"
    }
   ],
   "source": [
    "df['published_hour'].value_counts() # Published video counts of each hour"
   ]
  },
  {
   "cell_type": "code",
   "execution_count": 21,
   "id": "ccec9c4e",
   "metadata": {},
   "outputs": [
    {
     "data": {
      "text/plain": [
       "publish_time_of_day\n",
       "Morning          332\n",
       "Afternoon         25\n",
       "Evening            7\n",
       "Early Morning      2\n",
       "Name: count, dtype: int64"
      ]
     },
     "execution_count": 21,
     "metadata": {},
     "output_type": "execute_result"
    }
   ],
   "source": [
    "df['publish_time_of_day'].value_counts()"
   ]
  }
 ],
 "metadata": {
  "kernelspec": {
   "display_name": "base",
   "language": "python",
   "name": "python3"
  },
  "language_info": {
   "codemirror_mode": {
    "name": "ipython",
    "version": 3
   },
   "file_extension": ".py",
   "mimetype": "text/x-python",
   "name": "python",
   "nbconvert_exporter": "python",
   "pygments_lexer": "ipython3",
   "version": "3.11.7"
  }
 },
 "nbformat": 4,
 "nbformat_minor": 5
}

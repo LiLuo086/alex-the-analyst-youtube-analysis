{
 "cells": [
  {
   "cell_type": "code",
   "execution_count": 20,
   "id": "d44ca00a-4fb1-4b56-a309-d03b94feb1a4",
   "metadata": {},
   "outputs": [],
   "source": [
    "from googleapiclient.discovery import build\n",
    "import pandas as pd\n",
    "import seaborn as sns\n",
    "import matplotlib.ticker as ticker \n",
    "import matplotlib.pyplot as plt\n",
    "from pathlib import Path\n",
    "import os\n",
    "import isodate\n",
    "import psycopg2\n",
    "from sqlalchemy import create_engine,text"
   ]
  },
  {
   "cell_type": "markdown",
   "id": "7dda507a",
   "metadata": {},
   "source": [
    "## Data collection and storage"
   ]
  },
  {
   "cell_type": "code",
   "execution_count": 21,
   "id": "30f4ba42-79c4-4aa1-96ba-9293842e3efe",
   "metadata": {},
   "outputs": [],
   "source": [
    "api_key = Path(\"YT_API_KEY.txt\").read_text() # store YouTube API key in YT_API_KEY.txt\n",
    "channel_handle = '@alextheanalyst' # YouTube Channel 'Alex The Analyst'\n",
    "                   \n",
    "api_service_name = 'youtube'\n",
    "api_version = 'v3'\n",
    "\n",
    "# Initialize YouTube Data API client using google api library\n",
    "youtube = build(api_service_name, api_version, developerKey=api_key)"
   ]
  },
  {
   "cell_type": "markdown",
   "id": "5227322f",
   "metadata": {},
   "source": [
    "### Function to request channel information"
   ]
  },
  {
   "cell_type": "code",
   "execution_count": 22,
   "id": "e0c9a9c7",
   "metadata": {},
   "outputs": [],
   "source": [
    "# request channel information using youtube data api\n",
    "def request_channel_info(youtube, channel_handle):    \n",
    "    \n",
    "    request = youtube.channels().list(\n",
    "        part=\"snippet,contentDetails,statistics\",\n",
    "        forHandle=channel_handle        \n",
    "        )\n",
    "    \n",
    "    response = request.execute()\n",
    "    #return response   \n",
    "        \n",
    "    response_data = response['items'][0]\n",
    "    data = {'channel': response_data['snippet']['title'],\n",
    "            'description': response_data['snippet']['description'],\n",
    "            'subscribers': response_data['statistics']['subscriberCount'],\n",
    "            'views': response_data['statistics']['viewCount'],\n",
    "            'total_videos': response_data['statistics']['videoCount'],\n",
    "            'channel_playlist_id': response_data['contentDetails']['relatedPlaylists']['uploads'],\n",
    "            'channel_id': response_data['id']            \n",
    "            }              \n",
    "        \n",
    "        \n",
    "    #return the statistic data of Channel 'Alex The Analyst'\n",
    "    return data"
   ]
  },
  {
   "cell_type": "code",
   "execution_count": 23,
   "id": "8b08f01d",
   "metadata": {},
   "outputs": [],
   "source": [
    "channel_statistics = request_channel_info(youtube,channel_handle)\n",
    "# print(channel_statistics)"
   ]
  },
  {
   "cell_type": "code",
   "execution_count": 67,
   "id": "f6ad02ae",
   "metadata": {},
   "outputs": [],
   "source": [
    "# convert channel data to panda DataFrame\n",
    "df_channel = pd.DataFrame([channel_statistics])"
   ]
  },
  {
   "cell_type": "code",
   "execution_count": 68,
   "id": "727b5558",
   "metadata": {},
   "outputs": [],
   "source": [
    "# Save channel data to a csv file\n",
    "os.makedirs(\"data\",exist_ok=True)\n",
    "df_channel.to_csv('data/channel.csv', index=False)"
   ]
  },
  {
   "cell_type": "markdown",
   "id": "7da64c69",
   "metadata": {},
   "source": [
    "### Funtion to get video IDs"
   ]
  },
  {
   "cell_type": "code",
   "execution_count": 26,
   "id": "4ca91c93",
   "metadata": {},
   "outputs": [],
   "source": [
    "def get_playlist_videos(youtube, channel_playlist_id): \n",
    "    \n",
    "    video_ids = []\n",
    "    next_page_token = None   \n",
    "    \n",
    "    while True: \n",
    "        request = youtube.playlistItems().list(\n",
    "            part='snippet,contentDetails',\n",
    "            maxResults=50,\n",
    "            pageToken=next_page_token,\n",
    "            playlistId=channel_playlist_id\n",
    "            )\n",
    "        \n",
    "        response = request.execute()\n",
    "        #return response\n",
    "    \n",
    "        for item in response['items']:\n",
    "            video_id = item['contentDetails']['videoId']               \n",
    "            video_ids.append(video_id)\n",
    "        \n",
    "        next_page_token=response.get('nextPageToken')\n",
    "        #print(next_page_token)\n",
    "        if not next_page_token:\n",
    "            break    \n",
    "           \n",
    "    return video_ids \n",
    "   "
   ]
  },
  {
   "cell_type": "code",
   "execution_count": 27,
   "id": "3a8ad954",
   "metadata": {},
   "outputs": [],
   "source": [
    "channel_playlist_id = channel_data.loc[channel_data['channel']=='Alex The Analyst','channel_playlist_id'].iloc[0]"
   ]
  },
  {
   "cell_type": "code",
   "execution_count": 28,
   "id": "e5c21ff3",
   "metadata": {},
   "outputs": [],
   "source": [
    "video_ids = get_playlist_videos(youtube, channel_playlist_id)\n",
    "#print(video_ids)"
   ]
  },
  {
   "cell_type": "markdown",
   "id": "50ebcd57",
   "metadata": {},
   "source": [
    "### Function to get video details"
   ]
  },
  {
   "cell_type": "code",
   "execution_count": 29,
   "id": "e1aea5c0",
   "metadata": {},
   "outputs": [],
   "source": [
    "def get_video_block_details(youtube, video_block_ids):\n",
    "    \"\"\"\n",
    "    get video details with maximal 50 video IDs\n",
    "    \"\"\"\n",
    "    \n",
    "    request = youtube.videos().list(\n",
    "        part='snippet,contentDetails,statistics',\n",
    "        id=','.join(video_block_ids)\n",
    "        )\n",
    "    response = request.execute()\n",
    "    \n",
    "    return response\n"
   ]
  },
  {
   "cell_type": "code",
   "execution_count": 30,
   "id": "65f70ee1",
   "metadata": {},
   "outputs": [],
   "source": [
    "def get_all_video_details(youtube,video_ids):\n",
    "    \"\"\"\n",
    "    get details of all videos\n",
    "    \"\"\"\n",
    "    \n",
    "    video_details = []\n",
    "    video_len=len(video_ids)\n",
    "    \n",
    "    for i in range(0,video_len,50):\n",
    "        video_block_ids=video_ids[i:i+50]        \n",
    "        video_details.append(get_video_block_details(youtube, video_block_ids))   \n",
    "\n",
    "    return video_details   \n",
    "        "
   ]
  },
  {
   "cell_type": "code",
   "execution_count": 31,
   "id": "12b077cd",
   "metadata": {},
   "outputs": [],
   "source": [
    "video_details = get_all_video_details(youtube,video_ids)\n",
    "# print(video_details)"
   ]
  },
  {
   "cell_type": "markdown",
   "id": "d31263e4",
   "metadata": {},
   "source": [
    "### Function to get video statistics"
   ]
  },
  {
   "cell_type": "code",
   "execution_count": 32,
   "id": "cdf2ad60",
   "metadata": {},
   "outputs": [],
   "source": [
    "def get_video_stats(youtube,video_ids):\n",
    "    \"\"\"\n",
    "    get the statistics of provided videos\n",
    "    \"\"\"\n",
    "    \n",
    "    all_video_stats = []\n",
    "    video_details = get_all_video_details(youtube,video_ids)\n",
    "    \n",
    "    for details in video_details:\n",
    "        for item in details['items']:                     \n",
    "            stats_data = {'video_id': item['id'],\n",
    "                          'title': item['snippet']['title'],\n",
    "                          'published_at':item['snippet']['publishedAt'],                          \n",
    "                          'views': item['statistics'].get('viewCount',0),\n",
    "                          'likes': item['statistics'].get('likeCount',0),                      \n",
    "                          'comments': item['statistics'].get('commentCount',0),  \n",
    "                          'tags': item['snippet'].get('tags', []),\n",
    "                          'duration': item['contentDetails']['duration']        \n",
    "                         }\n",
    "            all_video_stats.append(stats_data)\n",
    "        \n",
    "    return all_video_stats\n",
    "        "
   ]
  },
  {
   "cell_type": "code",
   "execution_count": 33,
   "id": "9695e42a",
   "metadata": {},
   "outputs": [],
   "source": [
    "all_video_stats = get_video_stats(youtube,video_ids)\n",
    "# print(all_video_stats)"
   ]
  },
  {
   "cell_type": "code",
   "execution_count": 69,
   "id": "f48a4e08",
   "metadata": {},
   "outputs": [],
   "source": [
    "df_video = pd.DataFrame(all_video_stats)\n",
    "# print(video_data)"
   ]
  },
  {
   "cell_type": "code",
   "execution_count": 70,
   "id": "e448fafb",
   "metadata": {},
   "outputs": [],
   "source": [
    "# convert duration to seconds and only keep column duration_seconds\n",
    "df_video['duration_seconds'] = df_video['duration'].apply(lambda x: int(isodate.parse_duration(x).total_seconds()))\n",
    "video_data = df_video.drop(columns='duration')"
   ]
  },
  {
   "cell_type": "markdown",
   "id": "9d02ec8f",
   "metadata": {},
   "source": [
    "### Extract playlist of each video"
   ]
  },
  {
   "cell_type": "code",
   "execution_count": null,
   "id": "4a023dd1",
   "metadata": {},
   "outputs": [],
   "source": [
    "# Function to get all playlists from a channel\n",
    "\n",
    "def get_all_playlists(youtube, channel_id):\n",
    "    \"\"\"\n",
    "    Get all playlists from a channel\n",
    "    \"\"\"\n",
    "    playlists = []\n",
    "    request = youtube.playlists().list(\n",
    "        part=\"snippet\",\n",
    "        channelId=channel_id,\n",
    "        maxResults=50\n",
    "    )\n",
    "    response = request.execute()\n",
    "\n",
    "    for item in response['items']:\n",
    "        playlists.append({\n",
    "            'playlist_id': item['id'],\n",
    "            'playlist_title': item['snippet']['title']\n",
    "        })\n",
    "\n",
    "    return playlists\n"
   ]
  },
  {
   "cell_type": "code",
   "execution_count": 46,
   "id": "ea636a2c",
   "metadata": {},
   "outputs": [],
   "source": [
    "channel_playlists = get_all_playlists(youtube, channel_data['channel_id'][0])"
   ]
  },
  {
   "cell_type": "code",
   "execution_count": 47,
   "id": "a77bf686",
   "metadata": {},
   "outputs": [
    {
     "data": {
      "text/plain": [
       "[{'playlist_id': 'PLUaB-1hjhk8FEghrGL0WO0Nc9jzG6J8s-',\n",
       "  'playlist_title': 'Data Fundamentals for Beginners'},\n",
       " {'playlist_id': 'PLUaB-1hjhk8G0dEE2QuFw-qiMX6cRH-7t',\n",
       "  'playlist_title': 'AWS Fundamentals for Analysts'},\n",
       " {'playlist_id': 'PLUaB-1hjhk8HYjVA_8gvl2StVvVGr4yoK',\n",
       "  'playlist_title': 'Azure Fundamentals for Analysts'},\n",
       " {'playlist_id': 'PLUaB-1hjhk8GuvN7Yym7iNJps0y4DehhN',\n",
       "  'playlist_title': 'Learn Shiny for Python'},\n",
       " {'playlist_id': 'PLUaB-1hjhk8GbuwvxkmPeKFDUUTkxP9M1',\n",
       "  'playlist_title': 'All Things Analyst Builder'},\n",
       " {'playlist_id': 'PLUaB-1hjhk8G5zci4HA8E21x2BJS3jzNm',\n",
       "  'playlist_title': 'Intermediate MySQL Tutorial Series'},\n",
       " {'playlist_id': 'PLUaB-1hjhk8GjfgvWlreA6BvTvazz8RHG',\n",
       "  'playlist_title': 'Advanced MySQL Tutorial Series'},\n",
       " {'playlist_id': 'PLUaB-1hjhk8Fm_xpyeN4292wgE542Jy17',\n",
       "  'playlist_title': 'SQL Technical Interview Prep'},\n",
       " {'playlist_id': 'PLUaB-1hjhk8Fq6RBY-3MQ5MCXB5qxb8VA',\n",
       "  'playlist_title': 'MySQL Basics Tutorial Series'},\n",
       " {'playlist_id': 'PLUaB-1hjhk8G-xVXA5FxT2cLNzd87GInr',\n",
       "  'playlist_title': 'Python Web Scraping Basics'},\n",
       " {'playlist_id': 'PLUaB-1hjhk8EwZgCwBP36HH-SLJk4RaWp',\n",
       "  'playlist_title': 'Python Regular Expression'},\n",
       " {'playlist_id': 'PLUaB-1hjhk8GZOuylZqLz-Qt9RIdZZMBE',\n",
       "  'playlist_title': 'Pandas for Beginners'},\n",
       " {'playlist_id': 'PLUaB-1hjhk8FE_XZ87vPPSfHqb6OcM0cF',\n",
       "  'playlist_title': 'Data Analyst Bootcamp'},\n",
       " {'playlist_id': 'PLUaB-1hjhk8GnKlCG7I-I1tGxiB46SPWA',\n",
       "  'playlist_title': 'Python Projects for Beginners'},\n",
       " {'playlist_id': 'PLUaB-1hjhk8GHKfndKjyDMHPg_HlQ4vpK',\n",
       "  'playlist_title': 'Python for Beginners'},\n",
       " {'playlist_id': 'PLUaB-1hjhk8HqnmK0gQhfmIdCbxwoAoys',\n",
       "  'playlist_title': 'Power BI Tutorials for Beginners'},\n",
       " {'playlist_id': 'PLUaB-1hjhk8Hyd5NiPQ9CND82vNodlFF5',\n",
       "  'playlist_title': 'Excel Tutorials for Data Analysts'},\n",
       " {'playlist_id': 'PLUaB-1hjhk8GwbqoVmo_5zuhOa0Tcl3xC',\n",
       "  'playlist_title': 'Tableau Tutorials For Beginners'},\n",
       " {'playlist_id': 'PLUaB-1hjhk8FTfqkVoJqcU3p3E9klHqMq',\n",
       "  'playlist_title': 'Data Analyst Courses'},\n",
       " {'playlist_id': 'PLUaB-1hjhk8H48Pj32z4GZgGWyylqv85f',\n",
       "  'playlist_title': 'Data Analyst Portfolio Projects'},\n",
       " {'playlist_id': 'PLUaB-1hjhk8EBZNL4nx4Otoa5Wb--rEpU',\n",
       "  'playlist_title': 'Advanced SQL Tutorials'},\n",
       " {'playlist_id': 'PLUaB-1hjhk8GmBL-AtxMST9PXEOX4LEK-',\n",
       "  'playlist_title': 'Alex The Analyst Show'},\n",
       " {'playlist_id': 'PLUaB-1hjhk8FA2oZEtdceo-TfVMYvpdWP',\n",
       "  'playlist_title': 'Data Analyst Q&A'},\n",
       " {'playlist_id': 'PLUaB-1hjhk8HT06GYlgmi494El50gzlYq',\n",
       "  'playlist_title': 'Data Analyst Interview Questions'},\n",
       " {'playlist_id': 'PLUaB-1hjhk8HTgPnBukmMq7QTe83ANirL',\n",
       "  'playlist_title': 'Intermediate SQL Tutorials'},\n",
       " {'playlist_id': 'PLUaB-1hjhk8GT6N5ne2qpf603sF26m2PW',\n",
       "  'playlist_title': 'SQL Basics for Data Analysts'},\n",
       " {'playlist_id': 'PLUaB-1hjhk8GcHqTCT3dNCa52xSDP_VEY',\n",
       "  'playlist_title': 'Data Analyst Resume'}]"
      ]
     },
     "execution_count": 47,
     "metadata": {},
     "output_type": "execute_result"
    }
   ],
   "source": [
    "channel_playlists"
   ]
  },
  {
   "cell_type": "code",
   "execution_count": null,
   "id": "c00ed76b",
   "metadata": {},
   "outputs": [],
   "source": [
    "# Function to get a mapping of video IDs to playlist titles\n",
    "\n",
    "def get_playlist_video_map(youtube, channel_playlists):\n",
    "    \n",
    "    playlist_video_map = {}\n",
    "    for pl in channel_playlists:\n",
    "        pl_id = pl['playlist_id']\n",
    "        pl_title = pl['playlist_title']\n",
    "        next_page_token = None\n",
    "        while True:\n",
    "            request = youtube.playlistItems().list(\n",
    "                part=\"snippet\",\n",
    "                playlistId=pl_id,\n",
    "                maxResults=50,\n",
    "                pageToken=next_page_token\n",
    "            )\n",
    "            response = request.execute()\n",
    "            for item in response['items']:\n",
    "                video_id = item['snippet']['resourceId']['videoId']\n",
    "                playlist_video_map[video_id] = pl_title\n",
    "            next_page_token = response.get('nextPageToken')\n",
    "            if not next_page_token:\n",
    "                break\n",
    "        \n",
    "    return playlist_video_map"
   ]
  },
  {
   "cell_type": "code",
   "execution_count": 65,
   "id": "bc48a330",
   "metadata": {},
   "outputs": [],
   "source": [
    "playlist_video_map = get_playlist_video_map(youtube, channel_playlists)"
   ]
  },
  {
   "cell_type": "code",
   "execution_count": 66,
   "id": "199d0982",
   "metadata": {},
   "outputs": [
    {
     "name": "stdout",
     "output_type": "stream",
     "text": [
      "{'WpX2F2BS3Qc': 'Data Fundamentals for Beginners', 'cd_jj0IRmaA': 'Data Fundamentals for Beginners', 'OcG0B4ny1cE': 'Data Fundamentals for Beginners', 'hXpt8zj_ajc': 'Data Fundamentals for Beginners', 'ItZlTixh6Bs': 'Data Fundamentals for Beginners', 'PEWMgtu-1e4': 'Data Fundamentals for Beginners', 'YSjbGET6R1A': 'Data Analyst Bootcamp', 'hgaVi4sOHkM': 'Data Analyst Bootcamp', 'K2GfrERtliU': 'Data Analyst Bootcamp', 'AycpRKyRagE': 'Data Analyst Bootcamp', 'rxyLC247h6E': 'Data Analyst Bootcamp', 'ZYps6TmBkWk': 'Data Analyst Bootcamp', 'sEImMaovc1Q': 'Data Analyst Bootcamp', '9ur0OpMADuM': 'Data Analyst Bootcamp', 'sge9qTf8GdY': 'Data Analyst Bootcamp', 'vDVcXXfc9e8': 'Data Analyst Bootcamp', 'zv1nfZTYpio': 'Learn Shiny for Python', 'rn0dSsYXhIE': 'Learn Shiny for Python', 'siHou7lObbo': 'Learn Shiny for Python', 'Y-4ri9QjsTI': 'All Things Analyst Builder', '_R6K1aNtKpE': 'All Things Analyst Builder', '5tKmTdvEAVk': 'All Things Analyst Builder', 'KZKizyBS9YM': 'Data Analyst Bootcamp', 'I0_ca6iyo6w': 'Data Analyst Bootcamp', 'fT-8mRf_-Hk': 'Data Analyst Bootcamp', 'ZHaYOC0H5KE': 'Data Analyst Bootcamp', 'XD1ul5fpnGI': 'All Things Analyst Builder', 'lXQzD09BOH0': 'Data Analyst Bootcamp', 'iTQW_nDp938': 'Data Analyst Bootcamp', 'KRXSJb9ql1Y': 'Data Analyst Bootcamp', 'RYIiOG4LsvQ': 'Data Analyst Bootcamp', 'Vj6RqA_X-IE': 'Data Analyst Bootcamp', '7NBt0V8ebGk': 'Data Analyst Bootcamp', 'UC7uvOqcUTs': 'Data Analyst Bootcamp', 'uEk07jXdKOo': 'Data Analyst Bootcamp', '7vnxpcqmqNQ': 'Data Analyst Bootcamp', 'QMUZ5HfWMRc': 'Data Analyst Bootcamp', 'wgRwITQHszU': 'Data Analyst Bootcamp', 'HYD8KjPB9F8': 'Data Analyst Bootcamp', 'MARn_mssG4A': 'Data Analyst Bootcamp', 'zgYqUP_PhQo': 'Data Analyst Bootcamp', 'dCNjUOc1cBY': 'Data Analyst Bootcamp', 'ZnAydTqCtFU': 'Data Analyst Bootcamp', 'bargNl2WeN4': 'Data Analyst Bootcamp', 'q-kbzWjyPak': 'Data Analyst Bootcamp', 'xjA1HjvmoMY': 'Data Analyst Bootcamp', '8dTpNajxaH0': 'Data Analyst Bootcamp', '9NB5u17qiDY': 'Python Regular Expression', 'j6A28L6Tmxw': 'Python Regular Expression', 'EzeeypMKx7o': 'Python Regular Expression', '_oCUSMX4_3k': 'Python Regular Expression', 'dUpyC40cF6Q': 'Data Analyst Bootcamp', 'kB7FV-ijdqE': 'Data Analyst Bootcamp', 'mBCG9J1TVTc': 'Data Analyst Bootcamp', 'VRmXto2YA2I': 'Data Analyst Bootcamp', 'TPivN7tpdwc': 'Data Analyst Bootcamp', 'JpSMse3eVVg': 'Data Analyst Bootcamp', 'bDhvCp3_lYw': 'Data Analyst Bootcamp', 'Liv6eeb1VfE': 'Data Analyst Bootcamp', 'rGx1QNdYzvs': 'Data Analyst Bootcamp', 'CUBfrdDwznQ': 'Data Analyst Bootcamp', '4UltKCnnnTA': 'Data Analyst Bootcamp', 'QYd-RtK58VQ': 'Data Analyst Bootcamp', 'lH7HfwUFnYA': 'Excel Tutorials for Data Analysts', 'XRPyj7cKVsQ': 'Excel Tutorials for Data Analysts', 'Z7hPEwCzk2s': 'Excel Tutorials for Data Analysts', '_eZRkmRfVTM': 'Excel Tutorials for Data Analysts', 'gMAHXrty6wI': 'Excel Tutorials for Data Analysts', '_jmiEGZ6PIY': 'Excel Tutorials for Data Analysts', 'opJgMj1IUrc': 'Data Analyst Portfolio Projects', '6xv1KvCMF1Q': 'Tableau Tutorials For Beginners', 'f6qxxtWkaUg': 'Tableau Tutorials For Beginners', 'ebjDwX8sUMk': 'Tableau Tutorials For Beginners', 'A4SVUF-fTwc': 'Tableau Tutorials For Beginners', 'zOR0-nygfDE': 'Data Analyst Portfolio Projects', 'g0m5sEHPU-s': 'Power BI Tutorials for Beginners', 'gP-AxNi6uxo': 'Power BI Tutorials for Beginners', 'sW5LoDA1ssM': 'Power BI Tutorials for Beginners', 'vcijg0gUXSg': 'Power BI Tutorials for Beginners', 'ulFY20KTzFQ': 'Power BI Tutorials for Beginners', 'm0h3Ghl6mgY': 'Power BI Tutorials for Beginners', '9j_EBt3RNrs': 'Power BI Tutorials for Beginners', '3NV5Jtbhfcw': 'Power BI Tutorials for Beginners', 'pixlHHe_lNQ': 'Data Analyst Portfolio Projects', 'WUeBzT43JyY': 'Python for Beginners', 'pHOH7UfOhbE': 'Python for Beginners', 'ppsCxnNm-JI': 'Python for Beginners', 'lPVke-p4S7s': 'Python for Beginners', '-BOBedcjySI': 'Python for Beginners', 'zmIdC0_0BgY': 'Python for Beginners', 'ECduJk00mUU': 'Python for Beginners', 'zvzjaqMBEso': 'Python for Beginners', 'B63bN2cLVLM': 'Python for Beginners', 'ey1VNjU0YbM': 'Python for Beginners', 'gs0FNQR0njI': 'Python Projects for Beginners', 'HiOtQMcI5wg': 'Data Analyst Portfolio Projects', 'KB2CtEDrglY': 'Data Analyst Portfolio Projects', 'ocdwh0KYeUs': 'Data Analyst Portfolio Projects', 'WizLaDdsHUs': 'Data Analyst Bootcamp', '7uH7_DThtX0': 'Data Analyst Bootcamp', '28r412KFhG4': 'Data Analyst Bootcamp', 'ySq0cgkZiX4': 'Data Analyst Courses', 'mLUzFXPPa4I': 'Data Analyst Courses', 'wnapnTAMj68': 'Data Analyst Courses', 'pYRG5X7110M': 'Data Analyst Courses', 'RJw-GSXXguA': 'Data Analyst Courses', 'eFDbE5Yunj0': 'Data Analyst Courses', 'A4OVjWeVb10': 'Data Analyst Courses', 'VsztBAEtC7c': 'Data Analyst Courses', '3irO29PJQHs': 'Data Analyst Courses', 'DXwFsxCtukg': 'Data Analyst Courses', 'S76iS03nGis': 'Data Analyst Courses', 'qfyynHBFOsM': 'Data Analyst Portfolio Projects', 'QILNlRvJlfQ': 'Data Analyst Portfolio Projects', '8rO7ztF4NtU': 'Data Analyst Portfolio Projects', 'iPYVYBtUTyE': 'Data Analyst Portfolio Projects', 'K1WeoKxLZ5o': 'Advanced SQL Tutorials', 'RF0LE3hYFrI': 'Advanced SQL Tutorials', 'GQj6_6V_jVA': 'Advanced SQL Tutorials', 'NrBJmtD0kEw': 'Advanced SQL Tutorials', 'm1KcNV-Zhmc': 'Advanced SQL Tutorials', '-Inc1be4zSg': 'Alex The Analyst Show', 'Z2AachB309o': 'Alex The Analyst Show', '8SolrjsGqzE': 'Alex The Analyst Show', 'eTsHJoMmhYQ': 'Alex The Analyst Show', 'XmFhpoS6Etk': 'Alex The Analyst Show', 'C2ik_qR5GOU': 'Alex The Analyst Show', 'aJ9Q10v8Nrc': 'Alex The Analyst Show', 'brxnKIy6Cek': 'Alex The Analyst Show', 'PurMLMKNX0I': 'Alex The Analyst Show', 'GGLF2jLo8J4': 'Alex The Analyst Show', 'yzqpYs7dIqY': 'Alex The Analyst Show', 'JikLVP9DkPs': 'Alex The Analyst Show', '0HRgbb1PcDQ': 'Alex The Analyst Show', 'whgwEwA5SHU': 'Alex The Analyst Show', 'ru0Xdvxd37Q': 'Alex The Analyst Show', 'w25ZjL0OqT4': 'Alex The Analyst Show', 'tJaDicmRW7s': 'Alex The Analyst Show', 'SIseim20_Dc': 'Alex The Analyst Show', 'A-LkxegXFX8': 'Alex The Analyst Show', 'BIUFr9srS78': 'Alex The Analyst Show', 'gz2j5NBESSs': 'Alex The Analyst Show', 'xKdtP3IZbnU': 'Alex The Analyst Show', 'gCg47n_TlFc': 'Alex The Analyst Show', 'FpgkpjSyBOw': 'Alex The Analyst Show', 'aofB2t5o2ao': 'Alex The Analyst Show', 'BV5ckMNNvi4': 'Alex The Analyst Show', 'LJtFgnHGAos': 'Data Analyst Q&A', 'IqQCBytyATo': 'Data Analyst Q&A', 'ho2vzKPAD50': 'Data Analyst Q&A', 'rZpfNh28nFI': 'Data Analyst Q&A', 'MQ5UUNjWgug': 'Data Analyst Q&A', 'IZRe0nwkuXc': 'Data Analyst Q&A', 'Pfq-8pGzgg4': 'Data Analyst Q&A', 'rVhHGPDzEck': 'Data Analyst Q&A', 'eP8-mo5jRrY': 'Data Analyst Q&A', '_2OknmkngkQ': 'Data Analyst Q&A', 'dFA0E-6xT_M': 'Data Analyst Q&A', 'kky9MMydnOA': 'Data Analyst Q&A', 'fHK4nHbUtj0': 'Data Analyst Q&A', 'OnS01G8W6nw': 'Data Analyst Q&A', 'EflE8U30pBo': 'Data Analyst Q&A', '8zOkBTs0yxs': 'Data Analyst Q&A', 'Vg6ys_JvXzg': 'Data Analyst Q&A', 'r5512UY3MTc': 'Data Analyst Q&A', 'lpK71OwmG0s': 'Data Analyst Q&A', 'UT_hTGge_wc': 'Data Analyst Q&A', 'XIWe4vCtHcY': 'Data Analyst Q&A', 'QR8kxf925IQ': 'Data Analyst Q&A', '-Z2KjOUcvTA': 'Data Analyst Q&A', 'fweZQqB0nwQ': 'Data Analyst Interview Questions', 'sua7xKN0cPc': 'Data Analyst Interview Questions', 'rLKC--8UYSw': 'Data Analyst Interview Questions', 'ziurEoqEcO4': 'Data Analyst Interview Questions', '9URM1_2S0ho': 'Intermediate SQL Tutorials', 'lYKkro6rKm0': 'Intermediate SQL Tutorials', 'Twusw__OzA8': 'Intermediate SQL Tutorials', 'tYBOMw7Ob8E': 'Intermediate SQL Tutorials', 'bhnrIforc7s': 'Intermediate SQL Tutorials', 'Dk7he_yEs4U': 'Intermediate SQL Tutorials', 'D6XNlTfglW4': 'Intermediate SQL Tutorials', 'RSlqWnP-Dy8': 'SQL Basics for Data Analysts', 'PyYgERKq25I': 'SQL Basics for Data Analysts', 'A9TOuDZTPDU': 'SQL Basics for Data Analysts', 'LXwfzIRD-Ds': 'SQL Basics for Data Analysts', '4rfr6A3lO-Y': 'Data Analyst Resume', 'Ns-8Jsa3mEM': 'Data Analyst Resume', 'Lacbh0VoT3g': 'Data Analyst Resume', 'QG1fo7LFesA': 'Data Analyst Resume'}\n"
     ]
    }
   ],
   "source": [
    "print(playlist_video_map)"
   ]
  },
  {
   "cell_type": "code",
   "execution_count": 71,
   "id": "a739e319",
   "metadata": {},
   "outputs": [],
   "source": [
    "df_video['playlist_title'] = df_video['video_id'].map(playlist_video_map)"
   ]
  },
  {
   "cell_type": "code",
   "execution_count": 72,
   "id": "1579bb23",
   "metadata": {},
   "outputs": [],
   "source": [
    "# save video data into video.csv file\n",
    "df_video.to_csv('data/video.csv', index=False)"
   ]
  },
  {
   "cell_type": "markdown",
   "id": "fdcc2784",
   "metadata": {},
   "source": [
    "### Load data into PostgreSQL Database youtube_analysis"
   ]
  },
  {
   "cell_type": "code",
   "execution_count": null,
   "id": "8eae9200",
   "metadata": {},
   "outputs": [
    {
     "name": "stdout",
     "output_type": "stream",
     "text": [
      "❌ Connection or data load failed: (psycopg2.OperationalError) connection to server at \"localhost\" (::1), port 5432 failed: Connection refused (0x0000274D/10061)\n",
      "\tIs the server running on that host and accepting TCP/IP connections?\n",
      "connection to server at \"localhost\" (127.0.0.1), port 5432 failed: Connection refused (0x0000274D/10061)\n",
      "\tIs the server running on that host and accepting TCP/IP connections?\n",
      "\n",
      "(Background on this error at: https://sqlalche.me/e/20/e3q8)\n"
     ]
    }
   ],
   "source": [
    "\n",
    "# load database credentials from a credential file\n",
    "\n",
    "def load_db_credentials(filepath):\n",
    "    credentials = {}\n",
    "    with open(filepath,'r') as file:\n",
    "        lines = file.readlines()\n",
    "        for line in lines:\n",
    "            key, value = line.strip().split('=',1)\n",
    "            credentials[key.strip()] = value.strip()\n",
    "            \n",
    "    return credentials\n",
    "\n",
    "# Load database credentials\n",
    "creds = load_db_credentials('db_credentials.txt')    \n",
    "        \n",
    "\n",
    "# Build connection string using credentials\n",
    "conn_str = f\"postgresql://{creds['user']}:{creds['password']}@{creds['host']}:{creds['port']}/{creds['dbname']}\"\n",
    "\n",
    "# Create SQLAlchemy engine\n",
    "engine = create_engine(conn_str)\n",
    "\n",
    "try:\n",
    "    with engine.connect() as connection:\n",
    "        result = connection.execute(text(\"SELECT 1\"))\n",
    "        print(\"✅ Connection successful! Now loading data into PostgreSQL...\")\n",
    "        \n",
    "        # Load CSV to DataFrame\n",
    "        df = pd.read_csv(\"data/video.csv\")\n",
    "\n",
    "        # Write DataFrame to PostgreSQL\n",
    "        df.to_sql(\"raw_videos\", engine, if_exists=\"append\", index=False)\n",
    "        print(\"✅ Data successfully loaded into 'raw_videos' table.\")\n",
    "         \n",
    "except Exception as e:\n",
    "    print(\"❌ Connection or data load failed:\", e)     \n",
    "      "
   ]
  }
 ],
 "metadata": {
  "kernelspec": {
   "display_name": "base",
   "language": "python",
   "name": "python3"
  },
  "language_info": {
   "codemirror_mode": {
    "name": "ipython",
    "version": 3
   },
   "file_extension": ".py",
   "mimetype": "text/x-python",
   "name": "python",
   "nbconvert_exporter": "python",
   "pygments_lexer": "ipython3",
   "version": "3.11.7"
  }
 },
 "nbformat": 4,
 "nbformat_minor": 5
}

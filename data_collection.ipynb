{
 "cells": [
  {
   "cell_type": "code",
   "execution_count": 39,
   "id": "d44ca00a-4fb1-4b56-a309-d03b94feb1a4",
   "metadata": {},
   "outputs": [],
   "source": [
    "from googleapiclient.discovery import build\n",
    "import pandas as pd\n",
    "import seaborn as sns\n",
    "import matplotlib.ticker as ticker \n",
    "import matplotlib.pyplot as plt\n",
    "from pathlib import Path\n",
    "import os\n",
    "import isodate\n",
    "import psycopg2\n",
    "from sqlalchemy import create_engine"
   ]
  },
  {
   "cell_type": "markdown",
   "id": "7dda507a",
   "metadata": {},
   "source": [
    "## Data collection and storage"
   ]
  },
  {
   "cell_type": "code",
   "execution_count": 3,
   "id": "30f4ba42-79c4-4aa1-96ba-9293842e3efe",
   "metadata": {},
   "outputs": [],
   "source": [
    "api_key = Path(\"YT_API_KEY.txt\").read_text() # store YouTube API key in YT_API_KEY.txt\n",
    "channel_handle = '@alextheanalyst' # YouTube Channel 'Alex The Analyst'\n",
    "                   \n",
    "api_service_name = 'youtube'\n",
    "api_version = 'v3'\n",
    "\n",
    "# Initialize YouTube Data API client using google api library\n",
    "youtube = build(api_service_name, api_version, developerKey=api_key)"
   ]
  },
  {
   "cell_type": "markdown",
   "id": "5227322f",
   "metadata": {},
   "source": [
    "### Function to request channel information"
   ]
  },
  {
   "cell_type": "code",
   "execution_count": 4,
   "id": "e0c9a9c7",
   "metadata": {},
   "outputs": [],
   "source": [
    "# request channel information using youtube data api\n",
    "def request_channel_info(youtube, channel_handle):    \n",
    "    \n",
    "    request = youtube.channels().list(\n",
    "        part=\"snippet,contentDetails,statistics\",\n",
    "        forHandle=channel_handle        \n",
    "        )\n",
    "    \n",
    "    response = request.execute()\n",
    "    #return response   \n",
    "        \n",
    "    response_data = response['items'][0]\n",
    "    data = {'channel': response_data['snippet']['title'],\n",
    "            'description': response_data['snippet']['description'],\n",
    "            'subscribers': response_data['statistics']['subscriberCount'],\n",
    "            'views': response_data['statistics']['viewCount'],\n",
    "            'total_videos': response_data['statistics']['videoCount'],\n",
    "            'playlist_id': response_data['contentDetails']['relatedPlaylists']['uploads']            \n",
    "            }              \n",
    "        \n",
    "        \n",
    "    #return the statistic data of Channel 'Alex The Analyst'\n",
    "    return data"
   ]
  },
  {
   "cell_type": "code",
   "execution_count": 5,
   "id": "8b08f01d",
   "metadata": {},
   "outputs": [],
   "source": [
    "channel_statistics = request_channel_info(youtube,channel_handle)\n",
    "# print(channel_statistics)"
   ]
  },
  {
   "cell_type": "code",
   "execution_count": 6,
   "id": "f6ad02ae",
   "metadata": {},
   "outputs": [],
   "source": [
    "# convert channel data to panda DataFrame\n",
    "channel_data = pd.DataFrame([channel_statistics])\n",
    "#channel_data"
   ]
  },
  {
   "cell_type": "code",
   "execution_count": 7,
   "id": "727b5558",
   "metadata": {},
   "outputs": [],
   "source": [
    "# Save channel data to a csv file\n",
    "os.makedirs(\"data\",exist_ok=True)\n",
    "channel_data.to_csv('data/channel.csv', index=False)"
   ]
  },
  {
   "cell_type": "markdown",
   "id": "7da64c69",
   "metadata": {},
   "source": [
    "### Funtion to get video IDs"
   ]
  },
  {
   "cell_type": "code",
   "execution_count": 8,
   "id": "4ca91c93",
   "metadata": {},
   "outputs": [],
   "source": [
    "def get_playlist_videos(youtube, play_list_id): \n",
    "    \n",
    "    video_ids = []\n",
    "    next_page_token = None   \n",
    "    \n",
    "    while True: \n",
    "        request = youtube.playlistItems().list(\n",
    "            part='snippet,contentDetails',\n",
    "            maxResults=50,\n",
    "            pageToken=next_page_token,\n",
    "            playlistId=play_list_id\n",
    "            )\n",
    "        \n",
    "        response = request.execute()\n",
    "        #return response\n",
    "    \n",
    "        for item in response['items']:\n",
    "            video_id = item['contentDetails']['videoId']               \n",
    "            video_ids.append(video_id)\n",
    "        \n",
    "        next_page_token=response.get('nextPageToken')\n",
    "        #print(next_page_token)\n",
    "        if not next_page_token:\n",
    "            break    \n",
    "           \n",
    "    return video_ids \n",
    "   "
   ]
  },
  {
   "cell_type": "code",
   "execution_count": 9,
   "id": "3a8ad954",
   "metadata": {},
   "outputs": [],
   "source": [
    "playlist_ID = channel_data.loc[channel_data['channel']=='Alex The Analyst','playlist_id'].iloc[0]"
   ]
  },
  {
   "cell_type": "code",
   "execution_count": 10,
   "id": "e5c21ff3",
   "metadata": {},
   "outputs": [],
   "source": [
    "video_ids = get_playlist_videos(youtube, playlist_ID)\n",
    "#print(video_ids)"
   ]
  },
  {
   "cell_type": "markdown",
   "id": "50ebcd57",
   "metadata": {},
   "source": [
    "### Function to get video details"
   ]
  },
  {
   "cell_type": "code",
   "execution_count": 12,
   "id": "e1aea5c0",
   "metadata": {},
   "outputs": [],
   "source": [
    "def get_video_block_details(youtube, video_block_ids):\n",
    "    \"\"\"\n",
    "    get video details with maximal 50 video IDs\n",
    "    \"\"\"\n",
    "    \n",
    "    request = youtube.videos().list(\n",
    "        part='snippet,contentDetails,statistics',\n",
    "        id=','.join(video_block_ids)\n",
    "        )\n",
    "    response = request.execute()\n",
    "    \n",
    "    return response\n"
   ]
  },
  {
   "cell_type": "code",
   "execution_count": 13,
   "id": "65f70ee1",
   "metadata": {},
   "outputs": [],
   "source": [
    "def get_all_video_details(youtube,video_ids):\n",
    "    \"\"\"\n",
    "    get details of all videos\n",
    "    \"\"\"\n",
    "    \n",
    "    video_details = []\n",
    "    video_len=len(video_ids)\n",
    "    \n",
    "    for i in range(0,video_len,50):\n",
    "        video_block_ids=video_ids[i:i+50]        \n",
    "        video_details.append(get_video_block_details(youtube, video_block_ids))   \n",
    "\n",
    "    return video_details   \n",
    "        "
   ]
  },
  {
   "cell_type": "code",
   "execution_count": 14,
   "id": "12b077cd",
   "metadata": {},
   "outputs": [],
   "source": [
    "video_details = get_all_video_details(youtube,video_ids)\n",
    "# print(video_details)"
   ]
  },
  {
   "cell_type": "markdown",
   "id": "d31263e4",
   "metadata": {},
   "source": [
    "### Function to get video statistics"
   ]
  },
  {
   "cell_type": "code",
   "execution_count": 15,
   "id": "cdf2ad60",
   "metadata": {},
   "outputs": [],
   "source": [
    "def get_video_stats(youtube,video_ids):\n",
    "    \"\"\"\n",
    "    get the statistics of provided videos\n",
    "    \"\"\"\n",
    "    \n",
    "    all_video_stats = []\n",
    "    video_details = get_all_video_details(youtube,video_ids)\n",
    "    \n",
    "    for details in video_details:\n",
    "        for item in details['items']:                     \n",
    "            stats_data = {'video_id': item['id'],\n",
    "                          'title': item['snippet']['title'],\n",
    "                          'published_at':item['snippet']['publishedAt'],                          \n",
    "                          'views': item['statistics'].get('viewCount',0),\n",
    "                          'likes': item['statistics'].get('likeCount',0),                      \n",
    "                          'comments': item['statistics'].get('commentCount',0),  \n",
    "                          'tags': item['snippet'].get('tags', []),\n",
    "                          'duration': item['contentDetails']['duration']        \n",
    "                         }\n",
    "            all_video_stats.append(stats_data)\n",
    "        \n",
    "    return all_video_stats\n",
    "        "
   ]
  },
  {
   "cell_type": "code",
   "execution_count": 16,
   "id": "9695e42a",
   "metadata": {},
   "outputs": [],
   "source": [
    "all_video_stats = get_video_stats(youtube,video_ids)\n",
    "# print(all_video_stats)"
   ]
  },
  {
   "cell_type": "code",
   "execution_count": 17,
   "id": "f48a4e08",
   "metadata": {},
   "outputs": [],
   "source": [
    "video_data = pd.DataFrame(all_video_stats)\n",
    "# print(video_data)"
   ]
  },
  {
   "cell_type": "code",
   "execution_count": 20,
   "id": "be4bedd3",
   "metadata": {},
   "outputs": [],
   "source": [
    "# convert duration to seconds and only keep column duration_seconds\n",
    "video_data['duration_seconds'] = video_data['duration'].apply(lambda x: int(isodate.parse_duration(x).total_seconds()))\n",
    "video_data = video_data.drop(columns='duration')"
   ]
  },
  {
   "cell_type": "code",
   "execution_count": 21,
   "id": "4e604088",
   "metadata": {},
   "outputs": [],
   "source": [
    "# save video data into video.csv file\n",
    "video_data.to_csv('data/video.csv', index=False)"
   ]
  },
  {
   "cell_type": "markdown",
   "id": "fdcc2784",
   "metadata": {},
   "source": [
    "### Load data into PostgreSQL Database youtube_analysis"
   ]
  },
  {
   "cell_type": "code",
   "execution_count": 43,
   "id": "8eae9200",
   "metadata": {},
   "outputs": [
    {
     "name": "stdout",
     "output_type": "stream",
     "text": [
      "Connection successful.\n"
     ]
    },
    {
     "data": {
      "text/plain": [
       "365"
      ]
     },
     "execution_count": 43,
     "metadata": {},
     "output_type": "execute_result"
    }
   ],
   "source": [
    "\n",
    "# load database credentials from a credential file\n",
    "\n",
    "def load_db_credentials(filepath):\n",
    "    credentials = {}\n",
    "    with open(filepath,'r') as file:\n",
    "        lines = file.readlines()\n",
    "        for line in lines:\n",
    "            key, value = line.strip().split('=',1)\n",
    "            credentials[key.strip()] = value.strip()\n",
    "            \n",
    "    return credentials\n",
    "\n",
    "# Use credentials to test connection\n",
    "creds = load_db_credentials('db_credentials.txt')    \n",
    "\n",
    "try:\n",
    "    conn = psycopg2.connect(**creds)\n",
    "    cursor = conn.cursor()\n",
    "    cursor.execute(\"SELECT 1\")\n",
    "    print('Connection successful.')\n",
    "\n",
    "except Exception as e:\n",
    "    print('Connection failed:', e)\n",
    "    \n",
    "finally:\n",
    "    if conn:\n",
    "        conn.close() \n",
    "        \n",
    "        \n",
    "\n",
    "# Build connection string using credentials\n",
    "conn_str = f\"postgresql://{creds['user']}:{creds['password']}@{creds['host']}:{creds['port']}/{creds['dbname']}\"\n",
    "\n",
    "# Create SQLAlchemy engine\n",
    "engine = create_engine(conn_str)\n",
    "\n",
    "# Load CSV to DataFrame\n",
    "df = pd.read_csv(\"data/video.csv\")\n",
    "\n",
    "# Write DataFrame to PostgreSQL\n",
    "df.to_sql(\"videos\", engine, if_exists=\"append\", index=False)\n",
    "\n",
    "        \n",
    "      "
   ]
  }
 ],
 "metadata": {
  "kernelspec": {
   "display_name": "base",
   "language": "python",
   "name": "python3"
  },
  "language_info": {
   "codemirror_mode": {
    "name": "ipython",
    "version": 3
   },
   "file_extension": ".py",
   "mimetype": "text/x-python",
   "name": "python",
   "nbconvert_exporter": "python",
   "pygments_lexer": "ipython3",
   "version": "3.11.7"
  }
 },
 "nbformat": 4,
 "nbformat_minor": 5
}
